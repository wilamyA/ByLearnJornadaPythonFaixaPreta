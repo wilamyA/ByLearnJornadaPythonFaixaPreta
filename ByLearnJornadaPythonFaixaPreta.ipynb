{
  "nbformat": 4,
  "nbformat_minor": 0,
  "metadata": {
    "colab": {
      "name": "ByLearnJornadaPythonFaixaPreta.ipynb",
      "provenance": [],
      "authorship_tag": "ABX9TyMHg6TeqfHWD9agEDSwq+Dv",
      "include_colab_link": true
    },
    "kernelspec": {
      "name": "python3",
      "display_name": "Python 3"
    }
  },
  "cells": [
    {
      "cell_type": "markdown",
      "metadata": {
        "id": "view-in-github",
        "colab_type": "text"
      },
      "source": [
        "<a href=\"https://colab.research.google.com/github/wilamyA/ByLearnJornadaPythonFaixaPreta/blob/main/ByLearnJornadaPythonFaixaPreta.ipynb\" target=\"_parent\"><img src=\"https://colab.research.google.com/assets/colab-badge.svg\" alt=\"Open In Colab\"/></a>"
      ]
    },
    {
      "cell_type": "code",
      "metadata": {
        "id": "A-_zKrbaPffX"
      },
      "source": [
        "temp = ''\n",
        "\n",
        "while temp == '':\n",
        "  temp = input(\"digite a temperatura: \")\n",
        "temperatura = int(temp)\n",
        "\n",
        "if temperatura <= 15:\n",
        "  print(\"Coloca seu bobojaco e sua toca. Está Frio!\")\n",
        "elif temperatura > 15 and temperatura <= 30:\n",
        "  print(\"Tempo agradável. Bora curtir o dia!\")\n",
        "else:\n",
        "  print(\"Vai pra praia, hoje tem um sol para cada pessoa\")"
      ],
      "execution_count": null,
      "outputs": []
    },
    {
      "cell_type": "code",
      "metadata": {
        "id": "LP1xlb2fPskg"
      },
      "source": [
        ""
      ],
      "execution_count": null,
      "outputs": []
    }
  ]
}